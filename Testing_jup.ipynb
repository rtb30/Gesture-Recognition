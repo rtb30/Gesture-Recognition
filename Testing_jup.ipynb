{
 "cells": [
  {
   "cell_type": "code",
   "execution_count": 6,
   "metadata": {},
   "outputs": [
    {
     "name": "stdout",
     "output_type": "stream",
     "text": [
      "Shape of data_array: (4, 4)\n",
      "Error: incompatible dimensions for cross product\n",
      "(dimension must be 2 or 3)\n"
     ]
    }
   ],
   "source": [
    "import numpy as np\n",
    "from rdp import rdp\n",
    "\n",
    "# Example data inspection and usage\n",
    "data_array = np.array([\n",
    "    [0, 0, 0, 0],\n",
    "    [1, 1, 1, 1],\n",
    "    [2, 2, 2, 2],\n",
    "    [3, 3, 3, 3]\n",
    "])\n",
    "\n",
    "# Check shape of data_array before passing to rdp\n",
    "print(\"Shape of data_array:\", data_array.shape)\n",
    "\n",
    "# Call rdp function\n",
    "try:\n",
    "    epsilon = 1\n",
    "    simplified_data = rdp(data_array, epsilon=epsilon)\n",
    "    print(\"Simplified data:\", simplified_data)\n",
    "except ValueError as e:\n",
    "    print(\"Error:\", e)"
   ]
  }
 ],
 "metadata": {
  "kernelspec": {
   "display_name": "base",
   "language": "python",
   "name": "python3"
  },
  "language_info": {
   "codemirror_mode": {
    "name": "ipython",
    "version": 3
   },
   "file_extension": ".py",
   "mimetype": "text/x-python",
   "name": "python",
   "nbconvert_exporter": "python",
   "pygments_lexer": "ipython3",
   "version": "3.10.5"
  }
 },
 "nbformat": 4,
 "nbformat_minor": 2
}
