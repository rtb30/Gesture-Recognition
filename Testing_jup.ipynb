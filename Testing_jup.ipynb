{
 "cells": [
  {
   "cell_type": "code",
   "execution_count": 14,
   "metadata": {},
   "outputs": [
    {
     "name": "stdout",
     "output_type": "stream",
     "text": [
      "Index(['TimeValue', 'EPC', 'RSSI', 'PhaseAngle'], dtype='object')\n",
      "     TimeValue                       EPC   RSSI         PhaseAngle\n",
      "0     0.000000  A40000000000000000000000  -66,5  4,933282213840222\n",
      "1     0.001383  A80000000000000000000000  -66,5  4,816699673960914\n",
      "2     0.005240  A90000000000000000000000    -67  5,062136600022616\n",
      "3     0.008158  A50000000000000000000000  -59,5  0,944932165337555\n",
      "4     0.009645  A30000000000000000000000  -65,5   4,73693267299086\n",
      "..         ...                       ...    ...                ...\n",
      "143   2.628222  A90000000000000000000000    -67  5,258486140871978\n",
      "144   2.629481  A80000000000000000000000  -68,5  5,240078371417351\n",
      "145   2.631117  A40000000000000000000000  -65,5  2,325514874434632\n",
      "146   2.634174  A60000000000000000000000    -69  4,147884050442774\n",
      "147   2.640513  A20000000000000000000000    -72  4,853515212870168\n",
      "\n",
      "[148 rows x 4 columns]\n"
     ]
    }
   ],
   "source": [
    "import pandas as pd\n",
    "\n",
    "# init empty lists\n",
    "data = []\n",
    "EPC_sep = []\n",
    "RSSI_min = []\n",
    "data_new = []\n",
    "EPC_count_list = []\n",
    "\n",
    "#init empty dictionary\n",
    "mapping = {}\n",
    "\n",
    "# load csv file into dataframe and change header row (deleted everything before)\n",
    "input = 'Data/REV7/6 Rick Brophy/RB 3m/1 Lat Raise/2024-07-29_10-38-10.csv'\n",
    "    #print(f'Trying to read csv file: {input}')\n",
    "data.append(pd.read_csv(input, header = 2))\n",
    "    \n",
    "for i in range(len(data)):\n",
    "    # change which columns are needed and remove spaces\n",
    "    data[i] = data[i].iloc[0:, [0,1,4,7]]\n",
    "    data[i].columns = data[i].columns.str.strip()\n",
    "\n",
    "    # rename columns\n",
    "    data[i].rename(columns={'// Timestamp' : 'Timestamp'},     inplace = True)\n",
    "    #data[i].rename(columns={' RSSI'        : 'RSSI'},          inplace = True)\n",
    "    #data[i].rename(columns={' PhaseAngle'  : 'PhaseAngle'},    inplace = True)\n",
    "    #data[i].rename(columns={' EPC'         : 'EPC'},           inplace = True)\n",
    "\n",
    "    '''\n",
    "    # parse timestamp data and create new column to have comparable time values\n",
    "    data[i]['Timestamp'] = pd.to_datetime(data[i]['Timestamp'])\n",
    "    first_timestamp = data[i]['Timestamp'].iloc[0]\n",
    "    data[i]['TimeElapsed'] = data[i]['Timestamp'] - first_timestamp\n",
    "\n",
    "    # separate time elapsed into seconds and milliseconds, then combine the numbers\n",
    "    data[i]['seconds'] = data[i]['TimeElapsed'].dt.seconds\n",
    "    data[i]['milliseconds'] = data[i]['TimeElapsed'].dt.microseconds // 1000\n",
    "    data[i]['TimeValue'] = data[i]['seconds'] + data[i]['milliseconds'] / 1000\n",
    "    data[i]['TimeValue'] = data[i]['TimeValue'].round(4) # round to 4 decimal places\n",
    "\n",
    "    # move timevalue column over\n",
    "    data[i]['Timestamp'] = data[i]['TimeValue']\n",
    "    data[i].rename(columns={'Timestamp': 'TimeValue'}, inplace=True)\n",
    "    '''\n",
    "\n",
    "    # parse timestamp data and create new column to have comparable time values\n",
    "    data[i]['Timestamp'] = pd.to_datetime(data[i]['Timestamp'])\n",
    "    first_timestamp = data[i]['Timestamp'].iloc[0]\n",
    "    data[i]['Timestamp'] = (data[i]['Timestamp'] - first_timestamp).dt.total_seconds()\n",
    "\n",
    "    # move timevalue column over\n",
    "    #data[i]['Timestamp'] = data[i]\n",
    "    #data[i].drop(columns=['Timestamp'], inplace=True)\n",
    "    data[i].rename(columns={'Timestamp': 'TimeValue'}, inplace=True)\n",
    "    print(data[i].columns)\n",
    "    print(data[i])"
   ]
  }
 ],
 "metadata": {
  "kernelspec": {
   "display_name": "base",
   "language": "python",
   "name": "python3"
  },
  "language_info": {
   "codemirror_mode": {
    "name": "ipython",
    "version": 3
   },
   "file_extension": ".py",
   "mimetype": "text/x-python",
   "name": "python",
   "nbconvert_exporter": "python",
   "pygments_lexer": "ipython3",
   "version": "3.10.5"
  }
 },
 "nbformat": 4,
 "nbformat_minor": 2
}
